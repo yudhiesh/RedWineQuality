{
  "nbformat": 4,
  "nbformat_minor": 0,
  "metadata": {
    "colab": {
      "name": "NLR.ipynb",
      "provenance": [],
      "collapsed_sections": [],
      "machine_shape": "hm",
      "mount_file_id": "1iJqTwlo2r_5BJHTnJH-hdEMK9_H9EL3v",
      "authorship_tag": "ABX9TyPaKFFE8VGiMxt8su9771qX",
      "include_colab_link": true
    },
    "kernelspec": {
      "name": "python3",
      "display_name": "Python 3"
    },
    "accelerator": "GPU"
  },
  "cells": [
    {
      "cell_type": "markdown",
      "metadata": {
        "id": "view-in-github",
        "colab_type": "text"
      },
      "source": [
        "<a href=\"https://colab.research.google.com/github/yudhiesh1997/RedWineQuality/blob/master/NLR.ipynb\" target=\"_parent\"><img src=\"https://colab.research.google.com/assets/colab-badge.svg\" alt=\"Open In Colab\"/></a>"
      ]
    },
    {
      "cell_type": "code",
      "metadata": {
        "id": "cDmaH6K5-2se"
      },
      "source": [
        "import matplotlib.pyplot as plt\n",
        "import numpy as np\n",
        "import sklearn \n",
        "import seaborn as sns \n",
        "import pandas as pd\n",
        "from sklearn.model_selection import train_test_split\n",
        "from sklearn.model_selection import GridSearchCV\n",
        "from sklearn.metrics import classification_report, confusion_matrix\n",
        "from sklearn.linear_model import SGDClassifier\n",
        "from sklearn.model_selection import cross_val_score\n",
        "from sklearn.tree import DecisionTreeClassifier\n",
        "from sklearn.preprocessing import StandardScaler"
      ],
      "execution_count": null,
      "outputs": []
    },
    {
      "cell_type": "code",
      "metadata": {
        "id": "fxMLT0r6-8G0"
      },
      "source": [
        "df = pd.read_csv(\"/content/drive/My Drive/winequality-red 3.csv\")\n",
        "\n",
        "columns_ = ['alcohol', 'volatile acidity', 'sulphates', 'citric acid', 'quality']\n",
        "features = ['alcohol', 'volatile acidity', 'sulphates', 'citric acid']"
      ],
      "execution_count": null,
      "outputs": []
    },
    {
      "cell_type": "code",
      "metadata": {
        "id": "VAZP8lxU_pPe"
      },
      "source": [
        "df = df[columns_]"
      ],
      "execution_count": null,
      "outputs": []
    },
    {
      "cell_type": "code",
      "metadata": {
        "id": "mGoGeErd__9o",
        "outputId": "47fa04ab-b5ed-4bee-d1dd-2bc0a37afe12",
        "colab": {
          "base_uri": "https://localhost:8080/",
          "height": 197
        }
      },
      "source": [
        "df.head()"
      ],
      "execution_count": null,
      "outputs": [
        {
          "output_type": "execute_result",
          "data": {
            "text/html": [
              "<div>\n",
              "<style scoped>\n",
              "    .dataframe tbody tr th:only-of-type {\n",
              "        vertical-align: middle;\n",
              "    }\n",
              "\n",
              "    .dataframe tbody tr th {\n",
              "        vertical-align: top;\n",
              "    }\n",
              "\n",
              "    .dataframe thead th {\n",
              "        text-align: right;\n",
              "    }\n",
              "</style>\n",
              "<table border=\"1\" class=\"dataframe\">\n",
              "  <thead>\n",
              "    <tr style=\"text-align: right;\">\n",
              "      <th></th>\n",
              "      <th>alcohol</th>\n",
              "      <th>volatile acidity</th>\n",
              "      <th>sulphates</th>\n",
              "      <th>citric acid</th>\n",
              "      <th>quality</th>\n",
              "    </tr>\n",
              "  </thead>\n",
              "  <tbody>\n",
              "    <tr>\n",
              "      <th>0</th>\n",
              "      <td>9.4</td>\n",
              "      <td>0.70</td>\n",
              "      <td>0.56</td>\n",
              "      <td>0.00</td>\n",
              "      <td>5</td>\n",
              "    </tr>\n",
              "    <tr>\n",
              "      <th>1</th>\n",
              "      <td>9.8</td>\n",
              "      <td>0.88</td>\n",
              "      <td>0.68</td>\n",
              "      <td>0.00</td>\n",
              "      <td>5</td>\n",
              "    </tr>\n",
              "    <tr>\n",
              "      <th>2</th>\n",
              "      <td>9.8</td>\n",
              "      <td>0.76</td>\n",
              "      <td>0.65</td>\n",
              "      <td>0.04</td>\n",
              "      <td>5</td>\n",
              "    </tr>\n",
              "    <tr>\n",
              "      <th>3</th>\n",
              "      <td>9.8</td>\n",
              "      <td>0.28</td>\n",
              "      <td>0.58</td>\n",
              "      <td>0.56</td>\n",
              "      <td>6</td>\n",
              "    </tr>\n",
              "    <tr>\n",
              "      <th>4</th>\n",
              "      <td>9.4</td>\n",
              "      <td>0.70</td>\n",
              "      <td>0.56</td>\n",
              "      <td>0.00</td>\n",
              "      <td>5</td>\n",
              "    </tr>\n",
              "  </tbody>\n",
              "</table>\n",
              "</div>"
            ],
            "text/plain": [
              "   alcohol  volatile acidity  sulphates  citric acid  quality\n",
              "0      9.4              0.70       0.56         0.00        5\n",
              "1      9.8              0.88       0.68         0.00        5\n",
              "2      9.8              0.76       0.65         0.04        5\n",
              "3      9.8              0.28       0.58         0.56        6\n",
              "4      9.4              0.70       0.56         0.00        5"
            ]
          },
          "metadata": {
            "tags": []
          },
          "execution_count": 6
        }
      ]
    },
    {
      "cell_type": "code",
      "metadata": {
        "id": "fkojD1HsAA7w"
      },
      "source": [
        "scaler = StandardScaler()\n",
        "\n",
        "def scale_features(features, df):\n",
        "  df[features] = scaler.fit_transform(df[features])"
      ],
      "execution_count": null,
      "outputs": []
    },
    {
      "cell_type": "code",
      "metadata": {
        "id": "1Dc6jijSQPKh"
      },
      "source": [
        "scale_features(features=features, df=df)"
      ],
      "execution_count": null,
      "outputs": []
    },
    {
      "cell_type": "code",
      "metadata": {
        "id": "I---nxm4QtZO",
        "outputId": "cea7a7b7-0c3a-4600-dd99-ebc8ab86a0fa",
        "colab": {
          "base_uri": "https://localhost:8080/",
          "height": 197
        }
      },
      "source": [
        "df.head()"
      ],
      "execution_count": null,
      "outputs": [
        {
          "output_type": "execute_result",
          "data": {
            "text/html": [
              "<div>\n",
              "<style scoped>\n",
              "    .dataframe tbody tr th:only-of-type {\n",
              "        vertical-align: middle;\n",
              "    }\n",
              "\n",
              "    .dataframe tbody tr th {\n",
              "        vertical-align: top;\n",
              "    }\n",
              "\n",
              "    .dataframe thead th {\n",
              "        text-align: right;\n",
              "    }\n",
              "</style>\n",
              "<table border=\"1\" class=\"dataframe\">\n",
              "  <thead>\n",
              "    <tr style=\"text-align: right;\">\n",
              "      <th></th>\n",
              "      <th>alcohol</th>\n",
              "      <th>volatile acidity</th>\n",
              "      <th>sulphates</th>\n",
              "      <th>citric acid</th>\n",
              "      <th>quality</th>\n",
              "    </tr>\n",
              "  </thead>\n",
              "  <tbody>\n",
              "    <tr>\n",
              "      <th>0</th>\n",
              "      <td>-0.960246</td>\n",
              "      <td>0.961877</td>\n",
              "      <td>-0.579207</td>\n",
              "      <td>-1.391472</td>\n",
              "      <td>5</td>\n",
              "    </tr>\n",
              "    <tr>\n",
              "      <th>1</th>\n",
              "      <td>-0.584777</td>\n",
              "      <td>1.967442</td>\n",
              "      <td>0.128950</td>\n",
              "      <td>-1.391472</td>\n",
              "      <td>5</td>\n",
              "    </tr>\n",
              "    <tr>\n",
              "      <th>2</th>\n",
              "      <td>-0.584777</td>\n",
              "      <td>1.297065</td>\n",
              "      <td>-0.048089</td>\n",
              "      <td>-1.186070</td>\n",
              "      <td>5</td>\n",
              "    </tr>\n",
              "    <tr>\n",
              "      <th>3</th>\n",
              "      <td>-0.584777</td>\n",
              "      <td>-1.384443</td>\n",
              "      <td>-0.461180</td>\n",
              "      <td>1.484154</td>\n",
              "      <td>6</td>\n",
              "    </tr>\n",
              "    <tr>\n",
              "      <th>4</th>\n",
              "      <td>-0.960246</td>\n",
              "      <td>0.961877</td>\n",
              "      <td>-0.579207</td>\n",
              "      <td>-1.391472</td>\n",
              "      <td>5</td>\n",
              "    </tr>\n",
              "  </tbody>\n",
              "</table>\n",
              "</div>"
            ],
            "text/plain": [
              "    alcohol  volatile acidity  sulphates  citric acid  quality\n",
              "0 -0.960246          0.961877  -0.579207    -1.391472        5\n",
              "1 -0.584777          1.967442   0.128950    -1.391472        5\n",
              "2 -0.584777          1.297065  -0.048089    -1.186070        5\n",
              "3 -0.584777         -1.384443  -0.461180     1.484154        6\n",
              "4 -0.960246          0.961877  -0.579207    -1.391472        5"
            ]
          },
          "metadata": {
            "tags": []
          },
          "execution_count": 9
        }
      ]
    },
    {
      "cell_type": "markdown",
      "metadata": {
        "id": "Va_DaLCZyoMv"
      },
      "source": [
        "## Stratified KFold Cross Validation \n",
        "\n",
        "### The classes in the dataset are heavily imbalanced so in order to ensure optimal performance the data is split according to each respective class.\n",
        "\n",
        "### In essence the train and validation portions of the dataset keep the percentage of their distribution to prevent sampling bias where certain classes which take up a bigger number of the total dataset size would end up being overrepresented in both the train and validation split. \n",
        "\n",
        "1) Choose hyperparameters\n",
        "\n",
        "2) Divide the WHOLE train data into K-folds.\n",
        "\n",
        "3) Use the train portion of each fold for training with parameters from (1), validate on the validation portion of each fold. This gives an idea about the model performance on unseen data. Do the same thing K times on the remainder of folds\n",
        "\n",
        "4) Average the results obtained from K validations, which should give you even better idea about the generalization properties of a particular model (basically, of particular hyperparameters) on unseen data."
      ]
    },
    {
      "cell_type": "code",
      "metadata": {
        "id": "7Im7yZfu3Ckj"
      },
      "source": [
        "from sklearn.model_selection import StratifiedKFold, train_test_split\n",
        "\n",
        "# Stratified K-fold cross-validation \n",
        "df['kfold'] = -1\n",
        "df = df.sample(frac=1).reset_index(drop=True)\n",
        "y = df.quality\n",
        "kf = StratifiedKFold(n_splits=5)\n",
        "\n",
        "for f, (t_,v_) in enumerate(kf.split(X=df, y=y)):\n",
        "  df.loc[v_, 'kfold'] = f\n",
        "  df_train = df.loc[t_]\n",
        "  df_test = df.loc[v_]"
      ],
      "execution_count": null,
      "outputs": []
    },
    {
      "cell_type": "code",
      "metadata": {
        "id": "XUEM4K7hDQgu",
        "outputId": "f31e6cad-0491-42ea-b0f4-2d391192aac3",
        "colab": {
          "base_uri": "https://localhost:8080/",
          "height": 304
        }
      },
      "source": [
        "# Split data into k fold = 5\n",
        "def plot_distribution(df, title):\n",
        "  b = sns.countplot(x='quality', data=df)\n",
        "  b.set_xlabel('quality', fontsize=20)\n",
        "  b.set_ylabel('count', fontsize=20)\n",
        "  b.set_title(label = title)\n",
        "\n",
        "plot_distribution(df=df_train, title = \"Proportion of train data\")\n"
      ],
      "execution_count": null,
      "outputs": [
        {
          "output_type": "display_data",
          "data": {
            "image/png": "[encoded data removed]",
            "text/plain": [
              "<Figure size 432x288 with 1 Axes>"
            ]
          },
          "metadata": {
            "tags": [],
            "needs_background": "light"
          }
        }
      ]
    },
    {
      "cell_type": "code",
      "metadata": {
        "id": "vj7P8rKqRY0V",
        "outputId": "3eb78e91-b675-4471-807e-a66bdf42799e",
        "colab": {
          "base_uri": "https://localhost:8080/",
          "height": 304
        }
      },
      "source": [
        "plot_distribution(df=df_test, title = \"Proportion of test data\")\n"
      ],
      "execution_count": null,
      "outputs": [
        {
          "output_type": "display_data",
          "data": {
            "image/png": "[encoded data removed]",
            "text/plain": [
              "<Figure size 432x288 with 1 Axes>"
            ]
          },
          "metadata": {
            "tags": [],
            "needs_background": "light"
          }
        }
      ]
    },
    {
      "cell_type": "code",
      "metadata": {
        "id": "1NukcxHPO4ag",
        "outputId": "6c128b8f-6420-4328-b2b1-ad9291eacf83",
        "colab": {
          "base_uri": "https://localhost:8080/",
          "height": 197
        }
      },
      "source": [
        "df_train.head()"
      ],
      "execution_count": null,
      "outputs": [
        {
          "output_type": "execute_result",
          "data": {
            "text/html": [
              "<div>\n",
              "<style scoped>\n",
              "    .dataframe tbody tr th:only-of-type {\n",
              "        vertical-align: middle;\n",
              "    }\n",
              "\n",
              "    .dataframe tbody tr th {\n",
              "        vertical-align: top;\n",
              "    }\n",
              "\n",
              "    .dataframe thead th {\n",
              "        text-align: right;\n",
              "    }\n",
              "</style>\n",
              "<table border=\"1\" class=\"dataframe\">\n",
              "  <thead>\n",
              "    <tr style=\"text-align: right;\">\n",
              "      <th></th>\n",
              "      <th>alcohol</th>\n",
              "      <th>volatile acidity</th>\n",
              "      <th>sulphates</th>\n",
              "      <th>citric acid</th>\n",
              "      <th>quality</th>\n",
              "      <th>kfold</th>\n",
              "    </tr>\n",
              "  </thead>\n",
              "  <tbody>\n",
              "    <tr>\n",
              "      <th>0</th>\n",
              "      <td>-0.021574</td>\n",
              "      <td>1.352930</td>\n",
              "      <td>-0.107102</td>\n",
              "      <td>-0.775267</td>\n",
              "      <td>6</td>\n",
              "      <td>0</td>\n",
              "    </tr>\n",
              "    <tr>\n",
              "      <th>1</th>\n",
              "      <td>0.729364</td>\n",
              "      <td>-0.267148</td>\n",
              "      <td>0.365003</td>\n",
              "      <td>0.097691</td>\n",
              "      <td>5</td>\n",
              "      <td>0</td>\n",
              "    </tr>\n",
              "    <tr>\n",
              "      <th>2</th>\n",
              "      <td>0.447763</td>\n",
              "      <td>-1.607903</td>\n",
              "      <td>1.663290</td>\n",
              "      <td>0.354443</td>\n",
              "      <td>6</td>\n",
              "      <td>0</td>\n",
              "    </tr>\n",
              "    <tr>\n",
              "      <th>3</th>\n",
              "      <td>-1.335715</td>\n",
              "      <td>3.028873</td>\n",
              "      <td>-0.520193</td>\n",
              "      <td>-0.929318</td>\n",
              "      <td>5</td>\n",
              "      <td>0</td>\n",
              "    </tr>\n",
              "    <tr>\n",
              "      <th>4</th>\n",
              "      <td>-1.241848</td>\n",
              "      <td>0.906012</td>\n",
              "      <td>-0.284141</td>\n",
              "      <td>-1.134720</td>\n",
              "      <td>5</td>\n",
              "      <td>0</td>\n",
              "    </tr>\n",
              "  </tbody>\n",
              "</table>\n",
              "</div>"
            ],
            "text/plain": [
              "    alcohol  volatile acidity  sulphates  citric acid  quality  kfold\n",
              "0 -0.021574          1.352930  -0.107102    -0.775267        6      0\n",
              "1  0.729364         -0.267148   0.365003     0.097691        5      0\n",
              "2  0.447763         -1.607903   1.663290     0.354443        6      0\n",
              "3 -1.335715          3.028873  -0.520193    -0.929318        5      0\n",
              "4 -1.241848          0.906012  -0.284141    -1.134720        5      0"
            ]
          },
          "metadata": {
            "tags": []
          },
          "execution_count": 13
        }
      ]
    },
    {
      "cell_type": "code",
      "metadata": {
        "id": "j47fjYmrPbVX"
      },
      "source": [
        "X_train = df_train.drop(\"quality\", axis = 1).values\n",
        "X_test = df_test.drop(\"quality\", axis = 1).values \n",
        "y_train = df_train[\"quality\"].values \n",
        "y_test = df_test[\"quality\"].values "
      ],
      "execution_count": null,
      "outputs": []
    },
    {
      "cell_type": "code",
      "metadata": {
        "id": "6Ix2snqGEkCS"
      },
      "source": [
        "def make_confusion_matrix(cf,\n",
        "                          group_names=None,\n",
        "                          categories='auto',\n",
        "                          count=True,\n",
        "                          percent=True,\n",
        "                          cbar=True,\n",
        "                          xyticks=True,\n",
        "                          xyplotlabels=True,\n",
        "                          sum_stats=True,\n",
        "                          figsize=None,\n",
        "                          cmap='Blues',\n",
        "                          title=None):\n",
        "    '''\n",
        "    This function will make a pretty plot of an sklearn Confusion Matrix cm using a Seaborn heatmap visualization.\n",
        "    Arguments\n",
        "    ---------\n",
        "    cf:            confusion matrix to be passed in\n",
        "    group_names:   List of strings that represent the labels row by row to be shown in each square.\n",
        "    categories:    List of strings containing the categories to be displayed on the x,y axis. Default is 'auto'\n",
        "    count:         If True, show the raw number in the confusion matrix. Default is True.\n",
        "    normalize:     If True, show the proportions for each category. Default is True.\n",
        "    cbar:          If True, show the color bar. The cbar values are based off the values in the confusion matrix.\n",
        "                   Default is True.\n",
        "    xyticks:       If True, show x and y ticks. Default is True.\n",
        "    xyplotlabels:  If True, show 'True Label' and 'Predicted Label' on the figure. Default is True.\n",
        "    sum_stats:     If True, display summary statistics below the figure. Default is True.\n",
        "    figsize:       Tuple representing the figure size. Default will be the matplotlib rcParams value.\n",
        "    cmap:          Colormap of the values displayed from matplotlib.pyplot.cm. Default is 'Blues'\n",
        "                   See http://matplotlib.org/examples/color/colormaps_reference.html\n",
        "                   \n",
        "    title:         Title for the heatmap. Default is None.\n",
        "    '''\n",
        "\n",
        "\n",
        "    # CODE TO GENERATE TEXT INSIDE EACH SQUARE\n",
        "    blanks = ['' for i in range(cf.size)]\n",
        "\n",
        "    if group_names and len(group_names)==cf.size:\n",
        "        group_labels = [\"{}\\n\".format(value) for value in group_names]\n",
        "    else:\n",
        "        group_labels = blanks\n",
        "\n",
        "    if count:\n",
        "        group_counts = [\"{0:0.0f}\\n\".format(value) for value in cf.flatten()]\n",
        "    else:\n",
        "        group_counts = blanks\n",
        "\n",
        "    if percent:\n",
        "        group_percentages = [\"{0:.2%}\".format(value) for value in cf.flatten()/np.sum(cf)]\n",
        "    else:\n",
        "        group_percentages = blanks\n",
        "\n",
        "    box_labels = [f\"{v1}{v2}{v3}\".strip() for v1, v2, v3 in zip(group_labels,group_counts,group_percentages)]\n",
        "    box_labels = np.asarray(box_labels).reshape(cf.shape[0],cf.shape[1])\n",
        "\n",
        "\n",
        "    # CODE TO GENERATE SUMMARY STATISTICS & TEXT FOR SUMMARY STATS\n",
        "    if sum_stats:\n",
        "        #Accuracy is sum of diagonal divided by total observations\n",
        "        accuracy  = np.trace(cf) / float(np.sum(cf))\n",
        "\n",
        "        #if it is a binary confusion matrix, show some more stats\n",
        "        if len(cf)==2:\n",
        "            #Metrics for Binary Confusion Matrices\n",
        "            precision = cf[1,1] / sum(cf[:,1])\n",
        "            recall    = cf[1,1] / sum(cf[1,:])\n",
        "            f1_score  = 2*precision*recall / (precision + recall)\n",
        "            stats_text = \"\\n\\nAccuracy={:0.3f}\\nPrecision={:0.3f}\\nRecall={:0.3f}\\nF1 Score={:0.3f}\".format(\n",
        "                accuracy,precision,recall,f1_score)\n",
        "        else:\n",
        "            stats_text = \"\\n\\nAccuracy={:0.3f}\".format(accuracy)\n",
        "    else:\n",
        "        stats_text = \"\"\n",
        "\n",
        "\n",
        "    # SET FIGURE PARAMETERS ACCORDING TO OTHER ARGUMENTS\n",
        "    if figsize==None:\n",
        "        #Get default figure size if not set\n",
        "        figsize = plt.rcParams.get('figure.figsize')\n",
        "\n",
        "    if xyticks==False:\n",
        "        #Do not show categories if xyticks is False\n",
        "        categories=False\n",
        "\n",
        "\n",
        "    # MAKE THE HEATMAP VISUALIZATION\n",
        "    plt.figure(figsize=figsize)\n",
        "    sns.heatmap(cf,annot=box_labels,fmt=\"\",cmap=cmap,cbar=cbar,xticklabels=categories,yticklabels=categories)\n",
        "\n",
        "    if xyplotlabels:\n",
        "        plt.ylabel('True label')\n",
        "        plt.xlabel('Predicted label' + stats_text)\n",
        "    else:\n",
        "        plt.xlabel(stats_text)\n",
        "    \n",
        "    if title:\n",
        "        plt.title(title)"
      ],
      "execution_count": null,
      "outputs": []
    },
    {
      "cell_type": "markdown",
      "metadata": {
        "id": "NP4-Kc0XUd0F"
      },
      "source": [
        "## Hyperparameter selection \n",
        "\n",
        "### Instead of manually testing and trying to find the most optimum hyperparameters for this dataset, GridSearchCV is used to iteratively search through all the listed hyperparameters and finds the best combination of them in a single pipeline. \n",
        "\n",
        "### The hyperparameters are stored in the grid dictionary :\n",
        "\n",
        "#### **loss**\n",
        "The only applicable loss function for this would be a log loss as the log loss gives logistic regression, a probabilistic classifier. The other types would not work as they do not return a probabilistic and designed for a regression problem not a classification problem.\n",
        "\n",
        "#### **alpha**\n",
        "Constant that multiplies the regularization term. The higher the value, the stronger the regularization. Also used to compute the learning rate when set to learning_rate is set to ‘optimal’.\n",
        "\n",
        "#### **penalty**\n",
        "This refers to the regularization penalty used. L1 tends to shrink coefficients to zero whereas L2 tends to shrink coefficients evenly. \n",
        "\n",
        "\n",
        "#### **max_iter**\n",
        "\n",
        "This refers to the maximum number of iterations the model is allowed to go until converging. Here it is 100 numbers between 100 to 1000. \n",
        "\n",
        "\n",
        "#### **learning_rate**\n",
        "\n",
        "The learning rate is the size of steps the optimizer takes when traversing down during gradient descent. optimal follows the following function : eta = 1.0 / (alpha * (t + t0)) where t0 is chosen by a heuristic proposed by Leon Bottou.\n",
        "\n"
      ]
    },
    {
      "cell_type": "code",
      "metadata": {
        "id": "B8xP1UtMTXXo"
      },
      "source": [
        "params = {\n",
        "    \"loss\" : [\"log\"],\n",
        "    \"alpha\" : [0.00001, 0.0001, 0.001, 0.01, 0.1],\n",
        "    \"penalty\" : [\"l2\", \"l1\", \"none\"],\n",
        "    \"max_iter\": np.arange(10, 1000, 100),\n",
        "    \"learning_rate\": [\"optimal\"]\n",
        "\n",
        "}\n",
        "\n",
        "model = SGDClassifier(max_iter=1000)\n",
        "scoring = ['roc_auc_ovr', 'f1_weighted', 'accuracy']"
      ],
      "execution_count": null,
      "outputs": []
    },
    {
      "cell_type": "code",
      "metadata": {
        "id": "5CHCoJbMUCkV"
      },
      "source": [
        "\n",
        "gd_sr = GridSearchCV(estimator=model,\n",
        "                     param_grid=params,\n",
        "                     scoring=scoring,\n",
        "                     cv=5,\n",
        "                     refit='roc_auc_ovr',\n",
        "                     n_jobs=-1)"
      ],
      "execution_count": null,
      "outputs": []
    },
    {
      "cell_type": "code",
      "metadata": {
        "id": "Db-yEux-UEx7",
        "outputId": "e150502d-fb1d-4bb0-fb4a-f2ba4c6a48c1",
        "colab": {
          "base_uri": "https://localhost:8080/"
        }
      },
      "source": [
        "gd_sr.fit(X_train, y_train)"
      ],
      "execution_count": null,
      "outputs": [
        {
          "output_type": "execute_result",
          "data": {
            "text/plain": [
              "GridSearchCV(cv=5, error_score=nan,\n",
              "             estimator=SGDClassifier(alpha=0.0001, average=False,\n",
              "                                     class_weight=None, early_stopping=False,\n",
              "                                     epsilon=0.1, eta0=0.0, fit_intercept=True,\n",
              "                                     l1_ratio=0.15, learning_rate='optimal',\n",
              "                                     loss='hinge', max_iter=1000,\n",
              "                                     n_iter_no_change=5, n_jobs=None,\n",
              "                                     penalty='l2', power_t=0.5,\n",
              "                                     random_state=None, shuffle=True, tol=0.001,\n",
              "                                     validation_fraction=0.1,...\n",
              "                                     warm_start=False),\n",
              "             iid='deprecated', n_jobs=-1,\n",
              "             param_grid={'alpha': [1e-05, 0.0001, 0.001, 0.01, 0.1],\n",
              "                         'learning_rate': ['optimal'], 'loss': ['log'],\n",
              "                         'max_iter': array([ 10, 110, 210, 310, 410, 510, 610, 710, 810, 910]),\n",
              "                         'penalty': ['l2', 'l1', 'none']},\n",
              "             pre_dispatch='2*n_jobs', refit='roc_auc_ovr',\n",
              "             return_train_score=False,\n",
              "             scoring=['roc_auc_ovr', 'f1_weighted', 'accuracy'], verbose=0)"
            ]
          },
          "metadata": {
            "tags": []
          },
          "execution_count": 45
        }
      ]
    },
    {
      "cell_type": "code",
      "metadata": {
        "id": "vDyL8BojFWXQ",
        "outputId": "96a786bb-aff2-42f0-c0b0-2fe3fc636fcf",
        "colab": {
          "base_uri": "https://localhost:8080/",
          "height": 915
        }
      },
      "source": [
        "y_pred_rf = gd_sr.predict(X_test)\n",
        "cm_gd = confusion_matrix(y_test, y_pred_rf)\n",
        "\n",
        "labels = ['True Neg','False Pos','False Neg','True Pos']\n",
        "categories = ['3', '4', '5', '6', '7', '8']\n",
        "make_confusion_matrix(cm_gd, \n",
        "                      group_names=labels,\n",
        "                      categories=categories, \n",
        "                      cmap='coolwarm',\n",
        "                      figsize=(15,15),\n",
        "                      title=\"Confusion Matrix SGD Classifier\")"
      ],
      "execution_count": null,
      "outputs": [
        {
          "output_type": "display_data",
          "data": {
            "image/png": "[encoded data removed]",
            "text/plain": [
              "<Figure size 1080x1080 with 2 Axes>"
            ]
          },
          "metadata": {
            "tags": [],
            "needs_background": "light"
          }
        }
      ]
    },
    {
      "cell_type": "code",
      "metadata": {
        "id": "VvoI--FdYC5d",
        "outputId": "d4c9a0f5-16e4-48e5-ad18-9133fb27cd94",
        "colab": {
          "base_uri": "https://localhost:8080/"
        }
      },
      "source": [
        "print(classification_report(y_test, y_pred_rf, zero_division=0))"
      ],
      "execution_count": null,
      "outputs": [
        {
          "output_type": "stream",
          "text": [
            "              precision    recall  f1-score   support\n",
            "\n",
            "           3       0.00      0.00      0.00         2\n",
            "           4       0.00      0.00      0.00        11\n",
            "           5       0.60      0.79      0.68       136\n",
            "           6       0.50      0.51      0.51       127\n",
            "           7       0.40      0.10      0.16        40\n",
            "           8       0.00      0.00      0.00         3\n",
            "\n",
            "    accuracy                           0.55       319\n",
            "   macro avg       0.25      0.23      0.23       319\n",
            "weighted avg       0.51      0.55      0.51       319\n",
            "\n"
          ],
          "name": "stdout"
        }
      ]
    },
    {
      "cell_type": "code",
      "metadata": {
        "id": "LB4nxgpfUHzV",
        "outputId": "9f921d08-307e-4bda-ca0c-eb4e82b25554",
        "colab": {
          "base_uri": "https://localhost:8080/"
        }
      },
      "source": [
        "print('The best model is: ', gd_sr.best_params_)\n",
        "print('This model produces ROC_AUC_OVR score of', gd_sr.best_score_)"
      ],
      "execution_count": null,
      "outputs": [
        {
          "output_type": "stream",
          "text": [
            "The best model is:  {'alpha': 0.01, 'learning_rate': 'optimal', 'loss': 'log', 'max_iter': 210, 'penalty': 'none'}\n",
            "This model produces ROC_AUC_OVR score of 0.805704929734787\n"
          ],
          "name": "stdout"
        }
      ]
    },
    {
      "cell_type": "markdown",
      "metadata": {
        "id": "j7Ei_5SGdSpl"
      },
      "source": [
        "## Model Evalutaion \n",
        "\n",
        "### The best model which is made up of the parameters {'alpha': 0.01, 'learning_rate': 'optimal', 'loss': 'log', 'max_iter': 210, 'penalty': 'none'} produces a ROC_AUC_OVR score of 0.806 and an accuracy of 0.555.\n",
        "\n",
        "### ROC_AUC_OVR is the True Positive Rate vs the False Positive Rate of the model. Having a ROC_AUC_OVR of 1.00 would indicate that the model is perfect at distinguishing between the multiclass problem and makes 0 errors that are false positives. \n",
        "\n",
        "### Based on the printed confusion matrix the model also has a f1-score of 0.51, precision of 0.51 and a recall of 0.55 which are satisfactory for this highly imbalanced dataset. "
      ]
    },
    {
      "cell_type": "code",
      "metadata": {
        "id": "Zp6mhKNTerKi"
      },
      "source": [
        ""
      ],
      "execution_count": null,
      "outputs": []
    }
  ]
}